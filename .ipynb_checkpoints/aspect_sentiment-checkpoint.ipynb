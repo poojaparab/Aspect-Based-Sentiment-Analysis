{
 "cells": [
  {
   "cell_type": "markdown",
   "metadata": {},
   "source": [
    "## Imports"
   ]
  },
  {
   "cell_type": "code",
   "execution_count": 1,
   "metadata": {},
   "outputs": [],
   "source": [
    "import sagemaker as sage\n",
    "import os\n",
    "import boto3\n",
    "from sagemaker import get_execution_role\n",
    "from sagemaker import transformer\n",
    "from sagemaker import model\n",
    "\n",
    "role = get_execution_role()"
   ]
  },
  {
   "cell_type": "markdown",
   "metadata": {},
   "source": [
    "## Create the session\n",
    "\n",
    "The session remembers our connection parameters to Amazon SageMaker. We'll use it to perform all of our SageMaker operations."
   ]
  },
  {
   "cell_type": "code",
   "execution_count": 2,
   "metadata": {},
   "outputs": [
    {
     "name": "stdout",
     "output_type": "stream",
     "text": [
      "428712150059.dkr.ecr.us-east-2.amazonaws.com/bqs:latest\n"
     ]
    }
   ],
   "source": [
    "sess = sage.Session()\n",
    "\n",
    "account = sess.boto_session.client('sts').get_caller_identity()['Account']\n",
    "region = sess.boto_session.region_name\n",
    "image = '{}.dkr.ecr.{}.amazonaws.com/bqs:latest'.format(account, region)\n",
    "print(image)\n",
    "\n",
    "model_data = \"\""
   ]
  },
  {
   "cell_type": "markdown",
   "metadata": {},
   "source": [
    "## Create Model"
   ]
  },
  {
   "cell_type": "code",
   "execution_count": 3,
   "metadata": {},
   "outputs": [],
   "source": [
    "model = model.Model(model_data, image, role=role, name='barcode',sagemaker_session=sess)"
   ]
  },
  {
   "cell_type": "markdown",
   "metadata": {},
   "source": [
    "## Launch Endpoint and Predictor Object"
   ]
  },
  {
   "cell_type": "code",
   "execution_count": 4,
   "metadata": {},
   "outputs": [],
   "source": [
    "endpoint_name = 'barcode'"
   ]
  },
  {
   "cell_type": "code",
   "execution_count": 5,
   "metadata": {},
   "outputs": [
    {
     "name": "stderr",
     "output_type": "stream",
     "text": [
      "Using already existing model: barcode\n"
     ]
    },
    {
     "name": "stdout",
     "output_type": "stream",
     "text": [
      "-------------------------------------------------------------------------!"
     ]
    }
   ],
   "source": [
    "predictor=model.deploy(1, 'ml.m4.xlarge', endpoint_name = endpoint_name)"
   ]
  },
  {
   "cell_type": "markdown",
   "metadata": {},
   "source": [
    "# Invoke Endpoint"
   ]
  },
  {
   "cell_type": "code",
   "execution_count": 6,
   "metadata": {},
   "outputs": [],
   "source": [
    "client = boto3.client('sagemaker-runtime')\n",
    "content_type = \"image/jpeg\""
   ]
  },
  {
   "cell_type": "markdown",
   "metadata": {},
   "source": [
    "### Testing on a single audio file\n",
    "\n",
    "The model takes an image file (.jpg/.png) as input. We give the location of the sample imput file as input. An example has been shown in the following code shell.\n",
    "\n",
    "We get the response for our request as a dictionary of Barcode Data and the Barcode Type associated with the barcode. In case of a QR code, the Barcode Type is returned as \"QR-code\"."
   ]
  },
  {
   "cell_type": "markdown",
   "metadata": {},
   "source": [
    "#### Preparing the input file for payload"
   ]
  },
  {
   "cell_type": "code",
   "execution_count": 7,
   "metadata": {},
   "outputs": [],
   "source": [
    "file_name = 'data/sample_files/QRcode_example5.jpg'\n",
    "\n",
    "with open(file_name, 'rb') as image:\n",
    "    f = image.read()\n",
    "    b = bytearray(f)\n",
    "    ne = open('n.txt','wb')\n",
    "    ne.write(b)"
   ]
  },
  {
   "cell_type": "markdown",
   "metadata": {},
   "source": [
    "#### Reading the response"
   ]
  },
  {
   "cell_type": "code",
   "execution_count": 9,
   "metadata": {
    "scrolled": true
   },
   "outputs": [
    {
     "name": "stdout",
     "output_type": "stream",
     "text": [
      "b'{\"upi://pay?aid=uGICAgICAg_ziOw&pa=nishanthballal.9-1@okicici&pn=Nishanth%20Ballal\": \"QRCODE\"}'\n",
      "CPU times: user 13.6 ms, sys: 106 µs, total: 13.7 ms\n",
      "Wall time: 591 ms\n"
     ]
    }
   ],
   "source": [
    "%%time\n",
    "response = client.invoke_endpoint(\n",
    "    EndpointName = endpoint_name, \n",
    "    ContentType = content_type,\n",
    "    Body=b\n",
    ")\n",
    "print(response['Body'].read())"
   ]
  },
  {
   "cell_type": "markdown",
   "metadata": {},
   "source": [
    "## Batch Transform Job\n",
    "\n",
    "Now let's use the model built to run a batch inference job and verify it works."
   ]
  },
  {
   "cell_type": "markdown",
   "metadata": {},
   "source": [
    "### Batch Transform Input Preparation\n",
    "\n",
    "The snippet below is removing the \"label\" column (column indexed at 0) and retaining the rest to be batch transform's input. NOTE: This is the same training data, which is a no-no from a statistical/ML science perspective. But the aim of this notebook is to demonstrate how things work end-to-end."
   ]
  },
  {
   "cell_type": "code",
   "execution_count": 10,
   "metadata": {},
   "outputs": [
    {
     "name": "stdout",
     "output_type": "stream",
     "text": [
      "Transform Data Location s3://sagemaker-us-east-2-428712150059/barcode/validation\n"
     ]
    }
   ],
   "source": [
    "bucket = sess.default_bucket()\n",
    "\n",
    "transform_input_prefix = \"barcode/validation\"\n",
    "TRANSFORM_WORKDIR = \"data/transform\" \n",
    "# upload data from local directory to bucket\n",
    "\n",
    "transform_input = sess.upload_data(TRANSFORM_WORKDIR, key_prefix=transform_input_prefix) \n",
    "\n",
    "print (\"Transform Data Location \" + transform_input)"
   ]
  },
  {
   "cell_type": "markdown",
   "metadata": {},
   "source": [
    "### Run Batch Transform\n",
    "\n",
    "Now that our batch transform input is setup, we run the transformation job next"
   ]
  },
  {
   "cell_type": "code",
   "execution_count": 11,
   "metadata": {},
   "outputs": [],
   "source": [
    "trans = transformer.Transformer('barcode', 1, instance_type = 'ml.m4.xlarge', strategy= \"SingleRecord\", assemble_with=None, \n",
    "                                  output_path=\"s3://\"+bucket+\"/barcode/batch-transform-output\", output_kms_key=None, accept=None, max_concurrent_transforms=None, \n",
    "                                  max_payload=None, tags=None, env=None, \n",
    "                                  base_transform_job_name=None, sagemaker_session=sess, volume_kms_key=None)"
   ]
  },
  {
   "cell_type": "code",
   "execution_count": 12,
   "metadata": {},
   "outputs": [],
   "source": [
    "trans.transform(transform_input, data_type='S3Prefix', content_type=\"image/jpeg\",\n",
    "           input_filter=None, output_filter=None, join_source=None, wait=False, logs=True)"
   ]
  },
  {
   "cell_type": "code",
   "execution_count": 13,
   "metadata": {},
   "outputs": [
    {
     "name": "stdout",
     "output_type": "stream",
     "text": [
      "Batch Transform output saved to :s3://sagemaker-us-east-2-428712150059/barcode/batch-transform-output\n"
     ]
    }
   ],
   "source": [
    "print(\"Batch Transform output saved to :\" + trans.output_path)"
   ]
  },
  {
   "cell_type": "code",
   "execution_count": 14,
   "metadata": {},
   "outputs": [
    {
     "name": "stdout",
     "output_type": "stream",
     "text": [
      "QRcode_example5.jpg.out\n",
      "{\"upi://pay?aid=uGICAgICAg_ziOw&pa=nishanthballal.9-1@okicici&pn=Nishanth%20Ballal\": \"QRCODE\"}\n",
      "barcode_example.png.out\n",
      "{\"{\\\"author\\\": \\\"Adrian\\\", \\\"site\\\": \\\"PyImageSearch\\\"}\": \"QRCODE\", \"https://www.pyimagesearch.com/\": \"QRCODE\", \"PyImageSearch\": \"QRCODE\", \"AdrianRosebrock\": \"CODE128\"}\n",
      "barcode_example3.jpg.out\n",
      "{\"14MF3IM01\": \"CODE39\"}\n"
     ]
    }
   ],
   "source": [
    "# Print the outputs\n",
    "\n",
    "s3 = boto3.resource('s3')\n",
    "my_bucket = s3.Bucket(sess.default_bucket())\n",
    "\n",
    "for object_summary in my_bucket.objects.filter(Prefix=\"barcode/batch-transform-output\"+ \"/\"):\n",
    "   file_name = object_summary.key.split('/')[-1]\n",
    "   print(file_name)\n",
    "   s3.Bucket(sess.default_bucket()).download_file(\"barcode/\"+\"batch-transform-output\" +\"/\"+ file_name,  'batch_results')\n",
    "   with open('batch_results') as f:\n",
    "       results = f.readlines()  \n",
    "   \n",
    "   print(\"\".join(results))"
   ]
  },
  {
   "cell_type": "markdown",
   "metadata": {},
   "source": [
    "### Clean Up Endpoint"
   ]
  },
  {
   "cell_type": "code",
   "execution_count": null,
   "metadata": {},
   "outputs": [],
   "source": [
    "predictor.delete_endpoint()"
   ]
  }
 ],
 "metadata": {
  "kernelspec": {
   "display_name": "conda_python3",
   "language": "python",
   "name": "conda_python3"
  },
  "language_info": {
   "codemirror_mode": {
    "name": "ipython",
    "version": 3
   },
   "file_extension": ".py",
   "mimetype": "text/x-python",
   "name": "python",
   "nbconvert_exporter": "python",
   "pygments_lexer": "ipython3",
   "version": "3.6.5"
  }
 },
 "nbformat": 4,
 "nbformat_minor": 2
}
